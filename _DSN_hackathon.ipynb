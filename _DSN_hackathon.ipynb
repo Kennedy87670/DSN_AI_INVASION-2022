{
 "cells": [
  {
   "cell_type": "code",
   "execution_count": 1,
   "id": "bca6b457",
   "metadata": {},
   "outputs": [],
   "source": [
    "## Free AI classes in Every city Hackathon"
   ]
  },
  {
   "cell_type": "markdown",
   "id": "b5a3f8c0",
   "metadata": {},
   "source": [
    "## Problem definition \n",
    "The objective of the challenge is to predict the price (Amount (Million Naira)\n",
    " the company should sell a car based on the available data (Location, Maker, Model, Year, Colour, Amount (Million Naira), Type, Distance). \n",
    " The objective is the predict the selling price.\n",
    "\n",
    "## Data\n",
    "The data is downloaded from zindi free AI classes in every city hackathon\n",
    "https://zindi.africa/competitions/free-ai-classes-in-every-city-hackathon\n",
    "\n",
    "There are ~7000 entries in Train and ~2000 entries in Test.\n",
    "\n",
    "The objective of the challenge is to predict the price\n",
    "(Amount (Million Naira) the company should sell a car based on the\n",
    "available data (Location, Maker, Model, Year, Colour, Amount (Million Naira), Type, Distance). \n",
    "The objective is the predict the selling price.\n",
    "\n",
    "## Evaluation\n",
    "The evaluation metric for this competition is Root Mean Squared Error.\n",
    "\n",
    "Note: For every row in the dataset, submission files should contain 2 columns: ID and Target.\n",
    "\n",
    "\n",
    "##Features\n",
    "\n",
    "VehicleID\tThis is the unique identifier of the car.\n",
    "Location\tThis is the location in Nigeria where the seller is based.\n",
    "Maker\tThis is the manufacturer of the car. It is the brand name.\n",
    "Model\tThis is the the name of the car product within a range of similar car products.\n",
    "Year\tThis is the year the car was manufactured.\n",
    "Colour\tThis is the colour of the car.\n",
    "Amount (Million Naira)\tThis is the selling price of the car. It is the amount the company will sell the car.\n",
    "Type\tThis is the nature of previous use of the car, whether it was previously used within Nigeria or outside Nigeria.\n",
    "Distance\tThis is the mileage of the car. It is how much distance it covered in its previous use\n"
   ]
  },
  {
   "cell_type": "code",
   "execution_count": 2,
   "id": "16fa0bb0",
   "metadata": {},
   "outputs": [],
   "source": [
    "# importing libraries\n",
    "import numpy as np\n",
    "import pandas as pd\n",
    "import matplotlib.pyplot as plt\n",
    "import sklearn \n",
    "from sklearn.ensemble import RandomForestRegressor\n",
    "from sklearn.linear_model import LinearRegression\n",
    "import seaborn as sns\n",
    "from sklearn.preprocessing import LabelEncoder\n",
    "from sklearn.preprocessing import OneHotEncoder\n",
    "from sklearn.compose import ColumnTransformer\n",
    "from sklearn.model_selection import train_test_split\n",
    "from sklearn.metrics import mean_squared_error\n",
    "from sklearn.preprocessing import StandardScaler\n",
    "from sklearn.preprocessing import StandardScaler\n",
    "from sklearn.svm import SVC\n",
    "from sklearn.model_selection import KFold\n",
    "from sklearn.ensemble import GradientBoostingRegressor\n",
    "from sklearn.model_selection import cross_val_score\n",
    "from sklearn.model_selection import RepeatedStratifiedKFold\n",
    "from sklearn.datasets import make_regression\n",
    "from sklearn.ensemble import GradientBoostingRegressor\n",
    "from catboost import CatBoostRegressor\n",
    "from tqdm import tqdm\n"
   ]
  },
  {
   "cell_type": "code",
   "execution_count": 3,
   "id": "e01bc040",
   "metadata": {},
   "outputs": [],
   "source": [
    "# Importing training data set\n",
    "df_train = pd.read_csv('Train.csv')\n",
    "\n",
    "# Importing test data set\n",
    "df_test = pd.read_csv('Test.csv')\n",
    "\n",
    "#Importng sample submission\n",
    "sample_submission = pd.read_csv('SampleSubmission.csv')"
   ]
  },
  {
   "cell_type": "code",
   "execution_count": 4,
   "id": "c5aee331",
   "metadata": {},
   "outputs": [
    {
     "data": {
      "text/html": [
       "<div>\n",
       "<style scoped>\n",
       "    .dataframe tbody tr th:only-of-type {\n",
       "        vertical-align: middle;\n",
       "    }\n",
       "\n",
       "    .dataframe tbody tr th {\n",
       "        vertical-align: top;\n",
       "    }\n",
       "\n",
       "    .dataframe thead th {\n",
       "        text-align: right;\n",
       "    }\n",
       "</style>\n",
       "<table border=\"1\" class=\"dataframe\">\n",
       "  <thead>\n",
       "    <tr style=\"text-align: right;\">\n",
       "      <th></th>\n",
       "      <th>VehicleID</th>\n",
       "      <th>Location</th>\n",
       "      <th>Maker</th>\n",
       "      <th>Model</th>\n",
       "      <th>Year</th>\n",
       "      <th>Colour</th>\n",
       "      <th>Amount (Million Naira)</th>\n",
       "      <th>Type</th>\n",
       "      <th>Distance</th>\n",
       "    </tr>\n",
       "  </thead>\n",
       "  <tbody>\n",
       "    <tr>\n",
       "      <th>0</th>\n",
       "      <td>VHL12546</td>\n",
       "      <td>Abuja</td>\n",
       "      <td>Honda</td>\n",
       "      <td>Accord Coupe EX V-6</td>\n",
       "      <td>2,011</td>\n",
       "      <td>Silver</td>\n",
       "      <td>2.20</td>\n",
       "      <td>Nigerian Used</td>\n",
       "      <td>NaN</td>\n",
       "    </tr>\n",
       "    <tr>\n",
       "      <th>1</th>\n",
       "      <td>VHL18827</td>\n",
       "      <td>Ibadan</td>\n",
       "      <td>Hyundai</td>\n",
       "      <td>Sonata</td>\n",
       "      <td>2,012</td>\n",
       "      <td>Silver</td>\n",
       "      <td>3.50</td>\n",
       "      <td>Nigerian Used</td>\n",
       "      <td>125,000</td>\n",
       "    </tr>\n",
       "    <tr>\n",
       "      <th>2</th>\n",
       "      <td>VHL19499</td>\n",
       "      <td>Lagos</td>\n",
       "      <td>Lexus</td>\n",
       "      <td>RX 350</td>\n",
       "      <td>2,010</td>\n",
       "      <td>Red</td>\n",
       "      <td>9.20</td>\n",
       "      <td>Foreign Used</td>\n",
       "      <td>110,852</td>\n",
       "    </tr>\n",
       "    <tr>\n",
       "      <th>3</th>\n",
       "      <td>VHL17991</td>\n",
       "      <td>Abuja</td>\n",
       "      <td>Mercedes-Benz</td>\n",
       "      <td>GLE-Class</td>\n",
       "      <td>2,017</td>\n",
       "      <td>Blue</td>\n",
       "      <td>22.80</td>\n",
       "      <td>Foreign Used</td>\n",
       "      <td>30,000</td>\n",
       "    </tr>\n",
       "    <tr>\n",
       "      <th>4</th>\n",
       "      <td>VHL12170</td>\n",
       "      <td>Ibadan</td>\n",
       "      <td>Toyota</td>\n",
       "      <td>Highlander</td>\n",
       "      <td>2,002</td>\n",
       "      <td>Red</td>\n",
       "      <td>2.60</td>\n",
       "      <td>Nigerian Used</td>\n",
       "      <td>125,206</td>\n",
       "    </tr>\n",
       "    <tr>\n",
       "      <th>...</th>\n",
       "      <td>...</td>\n",
       "      <td>...</td>\n",
       "      <td>...</td>\n",
       "      <td>...</td>\n",
       "      <td>...</td>\n",
       "      <td>...</td>\n",
       "      <td>...</td>\n",
       "      <td>...</td>\n",
       "      <td>...</td>\n",
       "    </tr>\n",
       "    <tr>\n",
       "      <th>7200</th>\n",
       "      <td>VHL14329</td>\n",
       "      <td>Abuja</td>\n",
       "      <td>Honda</td>\n",
       "      <td>Civic</td>\n",
       "      <td>2,018</td>\n",
       "      <td>Gray</td>\n",
       "      <td>5.70</td>\n",
       "      <td>Foreign Used</td>\n",
       "      <td>65,000</td>\n",
       "    </tr>\n",
       "    <tr>\n",
       "      <th>7201</th>\n",
       "      <td>VHL10637</td>\n",
       "      <td>Abuja</td>\n",
       "      <td>BMW</td>\n",
       "      <td>X3</td>\n",
       "      <td>2,007</td>\n",
       "      <td>White</td>\n",
       "      <td>4.00</td>\n",
       "      <td>Nigerian Used</td>\n",
       "      <td>200,000</td>\n",
       "    </tr>\n",
       "    <tr>\n",
       "      <th>7202</th>\n",
       "      <td>VHL19734</td>\n",
       "      <td>Abuja</td>\n",
       "      <td>Toyota</td>\n",
       "      <td>RAV4 2.5 Limited 4x4</td>\n",
       "      <td>2,010</td>\n",
       "      <td>Black</td>\n",
       "      <td>2.85</td>\n",
       "      <td>Nigerian Used</td>\n",
       "      <td>NaN</td>\n",
       "    </tr>\n",
       "    <tr>\n",
       "      <th>7203</th>\n",
       "      <td>VHL15569</td>\n",
       "      <td>Lagos</td>\n",
       "      <td>Mercedes-Benz</td>\n",
       "      <td>GLK-Class 350</td>\n",
       "      <td>2,012</td>\n",
       "      <td>Black</td>\n",
       "      <td>8.65</td>\n",
       "      <td>Foreign Used</td>\n",
       "      <td>85,750</td>\n",
       "    </tr>\n",
       "    <tr>\n",
       "      <th>7204</th>\n",
       "      <td>VHL15246</td>\n",
       "      <td>Abuja</td>\n",
       "      <td>Honda</td>\n",
       "      <td>Accord Crosstour</td>\n",
       "      <td>2,012</td>\n",
       "      <td>Gray</td>\n",
       "      <td>3.38</td>\n",
       "      <td>Nigerian Used</td>\n",
       "      <td>83,308</td>\n",
       "    </tr>\n",
       "  </tbody>\n",
       "</table>\n",
       "<p>7205 rows × 9 columns</p>\n",
       "</div>"
      ],
      "text/plain": [
       "     VehicleID Location          Maker                 Model   Year  Colour  \\\n",
       "0     VHL12546    Abuja          Honda   Accord Coupe EX V-6  2,011  Silver   \n",
       "1     VHL18827   Ibadan        Hyundai                Sonata  2,012  Silver   \n",
       "2     VHL19499    Lagos          Lexus                RX 350  2,010     Red   \n",
       "3     VHL17991    Abuja  Mercedes-Benz             GLE-Class  2,017    Blue   \n",
       "4     VHL12170   Ibadan         Toyota            Highlander  2,002     Red   \n",
       "...        ...      ...            ...                   ...    ...     ...   \n",
       "7200  VHL14329    Abuja          Honda                 Civic  2,018    Gray   \n",
       "7201  VHL10637    Abuja            BMW                    X3  2,007   White   \n",
       "7202  VHL19734    Abuja         Toyota  RAV4 2.5 Limited 4x4  2,010   Black   \n",
       "7203  VHL15569    Lagos  Mercedes-Benz         GLK-Class 350  2,012   Black   \n",
       "7204  VHL15246    Abuja          Honda      Accord Crosstour  2,012    Gray   \n",
       "\n",
       "      Amount (Million Naira)           Type Distance  \n",
       "0                       2.20  Nigerian Used      NaN  \n",
       "1                       3.50  Nigerian Used  125,000  \n",
       "2                       9.20   Foreign Used  110,852  \n",
       "3                      22.80   Foreign Used   30,000  \n",
       "4                       2.60  Nigerian Used  125,206  \n",
       "...                      ...            ...      ...  \n",
       "7200                    5.70   Foreign Used   65,000  \n",
       "7201                    4.00  Nigerian Used  200,000  \n",
       "7202                    2.85  Nigerian Used      NaN  \n",
       "7203                    8.65   Foreign Used   85,750  \n",
       "7204                    3.38  Nigerian Used   83,308  \n",
       "\n",
       "[7205 rows x 9 columns]"
      ]
     },
     "execution_count": 4,
     "metadata": {},
     "output_type": "execute_result"
    }
   ],
   "source": [
    "df_train"
   ]
  },
  {
   "cell_type": "code",
   "execution_count": 5,
   "id": "a79fe653",
   "metadata": {},
   "outputs": [
    {
     "data": {
      "text/plain": [
       "((7205, 9), (2061, 2), (2061, 8))"
      ]
     },
     "execution_count": 5,
     "metadata": {},
     "output_type": "execute_result"
    }
   ],
   "source": [
    "df_train.shape, sample_submission.shape, df_test.shape"
   ]
  },
  {
   "cell_type": "code",
   "execution_count": 6,
   "id": "a47af5e6",
   "metadata": {},
   "outputs": [],
   "source": [
    "df_train = df_train[df_train['Amount (Million Naira)'].notnull()]"
   ]
  },
  {
   "cell_type": "code",
   "execution_count": 7,
   "id": "3d58d0f9",
   "metadata": {},
   "outputs": [],
   "source": [
    "target = df_train['Amount (Million Naira)']"
   ]
  },
  {
   "cell_type": "code",
   "execution_count": 8,
   "id": "11e3a4b1",
   "metadata": {},
   "outputs": [
    {
     "name": "stdout",
     "output_type": "stream",
     "text": [
      "<class 'pandas.core.frame.DataFrame'>\n",
      "Int64Index: 7188 entries, 0 to 7204\n",
      "Data columns (total 9 columns):\n",
      " #   Column                  Non-Null Count  Dtype  \n",
      "---  ------                  --------------  -----  \n",
      " 0   VehicleID               7188 non-null   object \n",
      " 1   Location                7188 non-null   object \n",
      " 2   Maker                   7188 non-null   object \n",
      " 3   Model                   7188 non-null   object \n",
      " 4   Year                    7167 non-null   object \n",
      " 5   Colour                  7188 non-null   object \n",
      " 6   Amount (Million Naira)  7188 non-null   float64\n",
      " 7   Type                    6992 non-null   object \n",
      " 8   Distance                4836 non-null   object \n",
      "dtypes: float64(1), object(8)\n",
      "memory usage: 561.6+ KB\n"
     ]
    }
   ],
   "source": [
    "df_train.info()"
   ]
  },
  {
   "cell_type": "code",
   "execution_count": 9,
   "id": "ebe494e4",
   "metadata": {},
   "outputs": [
    {
     "name": "stdout",
     "output_type": "stream",
     "text": [
      "<class 'pandas.core.frame.DataFrame'>\n",
      "RangeIndex: 2061 entries, 0 to 2060\n",
      "Data columns (total 8 columns):\n",
      " #   Column     Non-Null Count  Dtype  \n",
      "---  ------     --------------  -----  \n",
      " 0   VehicleID  2061 non-null   object \n",
      " 1   Location   2061 non-null   object \n",
      " 2   Maker      2061 non-null   object \n",
      " 3   Model      2061 non-null   object \n",
      " 4   Year       2059 non-null   object \n",
      " 5   Colour     2061 non-null   object \n",
      " 6   Type       2007 non-null   object \n",
      " 7   Distance   1385 non-null   float64\n",
      "dtypes: float64(1), object(7)\n",
      "memory usage: 128.9+ KB\n"
     ]
    }
   ],
   "source": [
    "df_test.info()"
   ]
  },
  {
   "cell_type": "code",
   "execution_count": 10,
   "id": "eaf0991a",
   "metadata": {},
   "outputs": [
    {
     "data": {
      "image/png": "[encoded data removed]",
      "text/plain": [
       "<Figure size 360x360 with 1 Axes>"
      ]
     },
     "metadata": {
      "needs_background": "light"
     },
     "output_type": "display_data"
    }
   ],
   "source": [
    "sns.displot(np.log10(df_train['Amount (Million Naira)']));"
   ]
  },
  {
   "cell_type": "code",
   "execution_count": 11,
   "id": "997a8faf",
   "metadata": {},
   "outputs": [
    {
     "data": {
      "text/plain": [
       "VehicleID                    0\n",
       "Location                     0\n",
       "Maker                        0\n",
       "Model                        0\n",
       "Year                        21\n",
       "Colour                       0\n",
       "Amount (Million Naira)       0\n",
       "Type                       196\n",
       "Distance                  2352\n",
       "dtype: int64"
      ]
     },
     "execution_count": 11,
     "metadata": {},
     "output_type": "execute_result"
    }
   ],
   "source": [
    "# Check missing values Train\n",
    "df_train.isnull().sum()"
   ]
  },
  {
   "cell_type": "code",
   "execution_count": 12,
   "id": "269afc5c",
   "metadata": {},
   "outputs": [
    {
     "data": {
      "text/plain": [
       "VehicleID      0\n",
       "Location       0\n",
       "Maker          0\n",
       "Model          0\n",
       "Year           2\n",
       "Colour         0\n",
       "Type          54\n",
       "Distance     676\n",
       "dtype: int64"
      ]
     },
     "execution_count": 12,
     "metadata": {},
     "output_type": "execute_result"
    }
   ],
   "source": [
    "# Check missing values Test\n",
    "df_test.isnull().sum()"
   ]
  },
  {
   "cell_type": "code",
   "execution_count": 13,
   "id": "2a65649c",
   "metadata": {},
   "outputs": [
    {
     "name": "stdout",
     "output_type": "stream",
     "text": [
      "VehicleID ::::::  5129\n",
      "Location ::::::  3\n",
      "Maker ::::::  55\n",
      "Model ::::::  1221\n",
      "Year ::::::  33\n",
      "Colour ::::::  21\n",
      "Amount (Million Naira) ::::::  742\n",
      "Type ::::::  3\n",
      "Distance ::::::  3140\n"
     ]
    }
   ],
   "source": [
    "for column in df_train.columns:\n",
    "    print(column,\":::::: \",df_train[column].nunique())"
   ]
  },
  {
   "cell_type": "code",
   "execution_count": 14,
   "id": "90187b79",
   "metadata": {},
   "outputs": [
    {
     "name": "stdout",
     "output_type": "stream",
     "text": [
      "VehicleID ::::::  1873\n",
      "Location ::::::  3\n",
      "Maker ::::::  40\n",
      "Model ::::::  587\n",
      "Year ::::::  29\n",
      "Colour ::::::  18\n",
      "Type ::::::  3\n",
      "Distance ::::::  1020\n"
     ]
    }
   ],
   "source": [
    "for column in df_test.columns:\n",
    "    print(column,\":::::: \",df_test[column].nunique())"
   ]
  },
  {
   "cell_type": "code",
   "execution_count": 15,
   "id": "50935a75",
   "metadata": {},
   "outputs": [
    {
     "name": "stderr",
     "output_type": "stream",
     "text": [
      "C:\\Users\\JOHNKE~1\\AppData\\Local\\Temp/ipykernel_10656/2125064006.py:2: SettingWithCopyWarning: \n",
      "A value is trying to be set on a copy of a slice from a DataFrame.\n",
      "Try using .loc[row_indexer,col_indexer] = value instead\n",
      "\n",
      "See the caveats in the documentation: https://pandas.pydata.org/pandas-docs/stable/user_guide/indexing.html#returning-a-view-versus-a-copy\n",
      "  df_train['Train']  =1\n"
     ]
    }
   ],
   "source": [
    "# Seperating the train and test giving unque numbers  (1, 0 )\n",
    "df_train['Train']  =1\n",
    "df_test['Train']  =0"
   ]
  },
  {
   "cell_type": "code",
   "execution_count": 16,
   "id": "93ad30bc",
   "metadata": {},
   "outputs": [],
   "source": [
    "#joining the two data together \n",
    "all_data = pd.concat([df_train.drop('Amount (Million Naira)',axis  =  1),df_test]).reset_index(drop = True)"
   ]
  },
  {
   "cell_type": "code",
   "execution_count": 17,
   "id": "cc577f0b",
   "metadata": {},
   "outputs": [
    {
     "data": {
      "text/html": [
       "<div>\n",
       "<style scoped>\n",
       "    .dataframe tbody tr th:only-of-type {\n",
       "        vertical-align: middle;\n",
       "    }\n",
       "\n",
       "    .dataframe tbody tr th {\n",
       "        vertical-align: top;\n",
       "    }\n",
       "\n",
       "    .dataframe thead th {\n",
       "        text-align: right;\n",
       "    }\n",
       "</style>\n",
       "<table border=\"1\" class=\"dataframe\">\n",
       "  <thead>\n",
       "    <tr style=\"text-align: right;\">\n",
       "      <th></th>\n",
       "      <th>VehicleID</th>\n",
       "      <th>Location</th>\n",
       "      <th>Maker</th>\n",
       "      <th>Model</th>\n",
       "      <th>Year</th>\n",
       "      <th>Colour</th>\n",
       "      <th>Type</th>\n",
       "      <th>Distance</th>\n",
       "      <th>Train</th>\n",
       "    </tr>\n",
       "  </thead>\n",
       "  <tbody>\n",
       "    <tr>\n",
       "      <th>0</th>\n",
       "      <td>VHL12546</td>\n",
       "      <td>Abuja</td>\n",
       "      <td>Honda</td>\n",
       "      <td>Accord Coupe EX V-6</td>\n",
       "      <td>2,011</td>\n",
       "      <td>Silver</td>\n",
       "      <td>Nigerian Used</td>\n",
       "      <td>NaN</td>\n",
       "      <td>1</td>\n",
       "    </tr>\n",
       "    <tr>\n",
       "      <th>1</th>\n",
       "      <td>VHL18827</td>\n",
       "      <td>Ibadan</td>\n",
       "      <td>Hyundai</td>\n",
       "      <td>Sonata</td>\n",
       "      <td>2,012</td>\n",
       "      <td>Silver</td>\n",
       "      <td>Nigerian Used</td>\n",
       "      <td>125,000</td>\n",
       "      <td>1</td>\n",
       "    </tr>\n",
       "    <tr>\n",
       "      <th>2</th>\n",
       "      <td>VHL19499</td>\n",
       "      <td>Lagos</td>\n",
       "      <td>Lexus</td>\n",
       "      <td>RX 350</td>\n",
       "      <td>2,010</td>\n",
       "      <td>Red</td>\n",
       "      <td>Foreign Used</td>\n",
       "      <td>110,852</td>\n",
       "      <td>1</td>\n",
       "    </tr>\n",
       "    <tr>\n",
       "      <th>3</th>\n",
       "      <td>VHL17991</td>\n",
       "      <td>Abuja</td>\n",
       "      <td>Mercedes-Benz</td>\n",
       "      <td>GLE-Class</td>\n",
       "      <td>2,017</td>\n",
       "      <td>Blue</td>\n",
       "      <td>Foreign Used</td>\n",
       "      <td>30,000</td>\n",
       "      <td>1</td>\n",
       "    </tr>\n",
       "    <tr>\n",
       "      <th>4</th>\n",
       "      <td>VHL12170</td>\n",
       "      <td>Ibadan</td>\n",
       "      <td>Toyota</td>\n",
       "      <td>Highlander</td>\n",
       "      <td>2,002</td>\n",
       "      <td>Red</td>\n",
       "      <td>Nigerian Used</td>\n",
       "      <td>125,206</td>\n",
       "      <td>1</td>\n",
       "    </tr>\n",
       "  </tbody>\n",
       "</table>\n",
       "</div>"
      ],
      "text/plain": [
       "  VehicleID Location          Maker                Model   Year  Colour  \\\n",
       "0  VHL12546    Abuja          Honda  Accord Coupe EX V-6  2,011  Silver   \n",
       "1  VHL18827   Ibadan        Hyundai               Sonata  2,012  Silver   \n",
       "2  VHL19499    Lagos          Lexus               RX 350  2,010     Red   \n",
       "3  VHL17991    Abuja  Mercedes-Benz            GLE-Class  2,017    Blue   \n",
       "4  VHL12170   Ibadan         Toyota           Highlander  2,002     Red   \n",
       "\n",
       "            Type Distance  Train  \n",
       "0  Nigerian Used      NaN      1  \n",
       "1  Nigerian Used  125,000      1  \n",
       "2   Foreign Used  110,852      1  \n",
       "3   Foreign Used   30,000      1  \n",
       "4  Nigerian Used  125,206      1  "
      ]
     },
     "execution_count": 17,
     "metadata": {},
     "output_type": "execute_result"
    }
   ],
   "source": [
    "all_data.head()"
   ]
  },
  {
   "cell_type": "code",
   "execution_count": 18,
   "id": "76e347f4",
   "metadata": {},
   "outputs": [
    {
     "data": {
      "text/plain": [
       "['Year', 'Maker', 'Model', 'Colour', 'Type', 'Location']"
      ]
     },
     "execution_count": 18,
     "metadata": {},
     "output_type": "execute_result"
    }
   ],
   "source": [
    "# joining the catergorical columns\n",
    "columns_transformer = ['Year', 'Maker', 'Model', 'Colour', 'Type','Location']\n",
    "columns_transformer"
   ]
  },
  {
   "cell_type": "code",
   "execution_count": 19,
   "id": "6da5a06b",
   "metadata": {},
   "outputs": [
    {
     "data": {
      "text/html": [
       "<div>\n",
       "<style scoped>\n",
       "    .dataframe tbody tr th:only-of-type {\n",
       "        vertical-align: middle;\n",
       "    }\n",
       "\n",
       "    .dataframe tbody tr th {\n",
       "        vertical-align: top;\n",
       "    }\n",
       "\n",
       "    .dataframe thead th {\n",
       "        text-align: right;\n",
       "    }\n",
       "</style>\n",
       "<table border=\"1\" class=\"dataframe\">\n",
       "  <thead>\n",
       "    <tr style=\"text-align: right;\">\n",
       "      <th></th>\n",
       "      <th>VehicleID</th>\n",
       "      <th>Distance</th>\n",
       "      <th>Train</th>\n",
       "      <th>Year_1,979</th>\n",
       "      <th>Year_1,982</th>\n",
       "      <th>Year_1,986</th>\n",
       "      <th>Year_1,989</th>\n",
       "      <th>Year_1,991</th>\n",
       "      <th>Year_1,992</th>\n",
       "      <th>Year_1,993</th>\n",
       "      <th>...</th>\n",
       "      <th>Colour_V</th>\n",
       "      <th>Colour_Violet</th>\n",
       "      <th>Colour_White</th>\n",
       "      <th>Colour_Yellow</th>\n",
       "      <th>Type_Brand New</th>\n",
       "      <th>Type_Foreign Used</th>\n",
       "      <th>Type_Nigerian Used</th>\n",
       "      <th>Location_Abuja</th>\n",
       "      <th>Location_Ibadan</th>\n",
       "      <th>Location_Lagos</th>\n",
       "    </tr>\n",
       "  </thead>\n",
       "  <tbody>\n",
       "    <tr>\n",
       "      <th>0</th>\n",
       "      <td>VHL12546</td>\n",
       "      <td>NaN</td>\n",
       "      <td>1</td>\n",
       "      <td>0</td>\n",
       "      <td>0</td>\n",
       "      <td>0</td>\n",
       "      <td>0</td>\n",
       "      <td>0</td>\n",
       "      <td>0</td>\n",
       "      <td>0</td>\n",
       "      <td>...</td>\n",
       "      <td>0</td>\n",
       "      <td>0</td>\n",
       "      <td>0</td>\n",
       "      <td>0</td>\n",
       "      <td>0</td>\n",
       "      <td>0</td>\n",
       "      <td>1</td>\n",
       "      <td>1</td>\n",
       "      <td>0</td>\n",
       "      <td>0</td>\n",
       "    </tr>\n",
       "    <tr>\n",
       "      <th>1</th>\n",
       "      <td>VHL18827</td>\n",
       "      <td>125,000</td>\n",
       "      <td>1</td>\n",
       "      <td>0</td>\n",
       "      <td>0</td>\n",
       "      <td>0</td>\n",
       "      <td>0</td>\n",
       "      <td>0</td>\n",
       "      <td>0</td>\n",
       "      <td>0</td>\n",
       "      <td>...</td>\n",
       "      <td>0</td>\n",
       "      <td>0</td>\n",
       "      <td>0</td>\n",
       "      <td>0</td>\n",
       "      <td>0</td>\n",
       "      <td>0</td>\n",
       "      <td>1</td>\n",
       "      <td>0</td>\n",
       "      <td>1</td>\n",
       "      <td>0</td>\n",
       "    </tr>\n",
       "    <tr>\n",
       "      <th>2</th>\n",
       "      <td>VHL19499</td>\n",
       "      <td>110,852</td>\n",
       "      <td>1</td>\n",
       "      <td>0</td>\n",
       "      <td>0</td>\n",
       "      <td>0</td>\n",
       "      <td>0</td>\n",
       "      <td>0</td>\n",
       "      <td>0</td>\n",
       "      <td>0</td>\n",
       "      <td>...</td>\n",
       "      <td>0</td>\n",
       "      <td>0</td>\n",
       "      <td>0</td>\n",
       "      <td>0</td>\n",
       "      <td>0</td>\n",
       "      <td>1</td>\n",
       "      <td>0</td>\n",
       "      <td>0</td>\n",
       "      <td>0</td>\n",
       "      <td>1</td>\n",
       "    </tr>\n",
       "    <tr>\n",
       "      <th>3</th>\n",
       "      <td>VHL17991</td>\n",
       "      <td>30,000</td>\n",
       "      <td>1</td>\n",
       "      <td>0</td>\n",
       "      <td>0</td>\n",
       "      <td>0</td>\n",
       "      <td>0</td>\n",
       "      <td>0</td>\n",
       "      <td>0</td>\n",
       "      <td>0</td>\n",
       "      <td>...</td>\n",
       "      <td>0</td>\n",
       "      <td>0</td>\n",
       "      <td>0</td>\n",
       "      <td>0</td>\n",
       "      <td>0</td>\n",
       "      <td>1</td>\n",
       "      <td>0</td>\n",
       "      <td>1</td>\n",
       "      <td>0</td>\n",
       "      <td>0</td>\n",
       "    </tr>\n",
       "    <tr>\n",
       "      <th>4</th>\n",
       "      <td>VHL12170</td>\n",
       "      <td>125,206</td>\n",
       "      <td>1</td>\n",
       "      <td>0</td>\n",
       "      <td>0</td>\n",
       "      <td>0</td>\n",
       "      <td>0</td>\n",
       "      <td>0</td>\n",
       "      <td>0</td>\n",
       "      <td>0</td>\n",
       "      <td>...</td>\n",
       "      <td>0</td>\n",
       "      <td>0</td>\n",
       "      <td>0</td>\n",
       "      <td>0</td>\n",
       "      <td>0</td>\n",
       "      <td>0</td>\n",
       "      <td>1</td>\n",
       "      <td>0</td>\n",
       "      <td>1</td>\n",
       "      <td>0</td>\n",
       "    </tr>\n",
       "  </tbody>\n",
       "</table>\n",
       "<p>5 rows × 1534 columns</p>\n",
       "</div>"
      ],
      "text/plain": [
       "  VehicleID Distance  Train  Year_1,979  Year_1,982  Year_1,986  Year_1,989  \\\n",
       "0  VHL12546      NaN      1           0           0           0           0   \n",
       "1  VHL18827  125,000      1           0           0           0           0   \n",
       "2  VHL19499  110,852      1           0           0           0           0   \n",
       "3  VHL17991   30,000      1           0           0           0           0   \n",
       "4  VHL12170  125,206      1           0           0           0           0   \n",
       "\n",
       "   Year_1,991  Year_1,992  Year_1,993  ...  Colour_V  Colour_Violet  \\\n",
       "0           0           0           0  ...         0              0   \n",
       "1           0           0           0  ...         0              0   \n",
       "2           0           0           0  ...         0              0   \n",
       "3           0           0           0  ...         0              0   \n",
       "4           0           0           0  ...         0              0   \n",
       "\n",
       "   Colour_White  Colour_Yellow  Type_Brand New  Type_Foreign Used  \\\n",
       "0             0              0               0                  0   \n",
       "1             0              0               0                  0   \n",
       "2             0              0               0                  1   \n",
       "3             0              0               0                  1   \n",
       "4             0              0               0                  0   \n",
       "\n",
       "   Type_Nigerian Used  Location_Abuja  Location_Ibadan  Location_Lagos  \n",
       "0                   1               1                0               0  \n",
       "1                   1               0                1               0  \n",
       "2                   0               0                0               1  \n",
       "3                   0               1                0               0  \n",
       "4                   1               0                1               0  \n",
       "\n",
       "[5 rows x 1534 columns]"
      ]
     },
     "execution_count": 19,
     "metadata": {},
     "output_type": "execute_result"
    }
   ],
   "source": [
    "## convert the data categorical to (1, 0)\n",
    "all_data = pd.get_dummies( all_data,columns = columns_transformer)\n",
    "all_data.head()"
   ]
  },
  {
   "cell_type": "code",
   "execution_count": 20,
   "id": "6cff2d95",
   "metadata": {},
   "outputs": [],
   "source": [
    "# droping columns\n",
    "all_data = all_data.drop(['VehicleID','Distance'],axis = 1)"
   ]
  },
  {
   "cell_type": "code",
   "execution_count": 21,
   "id": "011fd6e1",
   "metadata": {},
   "outputs": [
    {
     "data": {
      "text/html": [
       "<div>\n",
       "<style scoped>\n",
       "    .dataframe tbody tr th:only-of-type {\n",
       "        vertical-align: middle;\n",
       "    }\n",
       "\n",
       "    .dataframe tbody tr th {\n",
       "        vertical-align: top;\n",
       "    }\n",
       "\n",
       "    .dataframe thead th {\n",
       "        text-align: right;\n",
       "    }\n",
       "</style>\n",
       "<table border=\"1\" class=\"dataframe\">\n",
       "  <thead>\n",
       "    <tr style=\"text-align: right;\">\n",
       "      <th></th>\n",
       "      <th>Train</th>\n",
       "      <th>Year_1,979</th>\n",
       "      <th>Year_1,982</th>\n",
       "      <th>Year_1,986</th>\n",
       "      <th>Year_1,989</th>\n",
       "      <th>Year_1,991</th>\n",
       "      <th>Year_1,992</th>\n",
       "      <th>Year_1,993</th>\n",
       "      <th>Year_1,995</th>\n",
       "      <th>Year_1,996</th>\n",
       "      <th>...</th>\n",
       "      <th>Colour_V</th>\n",
       "      <th>Colour_Violet</th>\n",
       "      <th>Colour_White</th>\n",
       "      <th>Colour_Yellow</th>\n",
       "      <th>Type_Brand New</th>\n",
       "      <th>Type_Foreign Used</th>\n",
       "      <th>Type_Nigerian Used</th>\n",
       "      <th>Location_Abuja</th>\n",
       "      <th>Location_Ibadan</th>\n",
       "      <th>Location_Lagos</th>\n",
       "    </tr>\n",
       "  </thead>\n",
       "  <tbody>\n",
       "    <tr>\n",
       "      <th>0</th>\n",
       "      <td>1</td>\n",
       "      <td>0</td>\n",
       "      <td>0</td>\n",
       "      <td>0</td>\n",
       "      <td>0</td>\n",
       "      <td>0</td>\n",
       "      <td>0</td>\n",
       "      <td>0</td>\n",
       "      <td>0</td>\n",
       "      <td>0</td>\n",
       "      <td>...</td>\n",
       "      <td>0</td>\n",
       "      <td>0</td>\n",
       "      <td>0</td>\n",
       "      <td>0</td>\n",
       "      <td>0</td>\n",
       "      <td>0</td>\n",
       "      <td>1</td>\n",
       "      <td>1</td>\n",
       "      <td>0</td>\n",
       "      <td>0</td>\n",
       "    </tr>\n",
       "    <tr>\n",
       "      <th>1</th>\n",
       "      <td>1</td>\n",
       "      <td>0</td>\n",
       "      <td>0</td>\n",
       "      <td>0</td>\n",
       "      <td>0</td>\n",
       "      <td>0</td>\n",
       "      <td>0</td>\n",
       "      <td>0</td>\n",
       "      <td>0</td>\n",
       "      <td>0</td>\n",
       "      <td>...</td>\n",
       "      <td>0</td>\n",
       "      <td>0</td>\n",
       "      <td>0</td>\n",
       "      <td>0</td>\n",
       "      <td>0</td>\n",
       "      <td>0</td>\n",
       "      <td>1</td>\n",
       "      <td>0</td>\n",
       "      <td>1</td>\n",
       "      <td>0</td>\n",
       "    </tr>\n",
       "    <tr>\n",
       "      <th>2</th>\n",
       "      <td>1</td>\n",
       "      <td>0</td>\n",
       "      <td>0</td>\n",
       "      <td>0</td>\n",
       "      <td>0</td>\n",
       "      <td>0</td>\n",
       "      <td>0</td>\n",
       "      <td>0</td>\n",
       "      <td>0</td>\n",
       "      <td>0</td>\n",
       "      <td>...</td>\n",
       "      <td>0</td>\n",
       "      <td>0</td>\n",
       "      <td>0</td>\n",
       "      <td>0</td>\n",
       "      <td>0</td>\n",
       "      <td>1</td>\n",
       "      <td>0</td>\n",
       "      <td>0</td>\n",
       "      <td>0</td>\n",
       "      <td>1</td>\n",
       "    </tr>\n",
       "    <tr>\n",
       "      <th>3</th>\n",
       "      <td>1</td>\n",
       "      <td>0</td>\n",
       "      <td>0</td>\n",
       "      <td>0</td>\n",
       "      <td>0</td>\n",
       "      <td>0</td>\n",
       "      <td>0</td>\n",
       "      <td>0</td>\n",
       "      <td>0</td>\n",
       "      <td>0</td>\n",
       "      <td>...</td>\n",
       "      <td>0</td>\n",
       "      <td>0</td>\n",
       "      <td>0</td>\n",
       "      <td>0</td>\n",
       "      <td>0</td>\n",
       "      <td>1</td>\n",
       "      <td>0</td>\n",
       "      <td>1</td>\n",
       "      <td>0</td>\n",
       "      <td>0</td>\n",
       "    </tr>\n",
       "    <tr>\n",
       "      <th>4</th>\n",
       "      <td>1</td>\n",
       "      <td>0</td>\n",
       "      <td>0</td>\n",
       "      <td>0</td>\n",
       "      <td>0</td>\n",
       "      <td>0</td>\n",
       "      <td>0</td>\n",
       "      <td>0</td>\n",
       "      <td>0</td>\n",
       "      <td>0</td>\n",
       "      <td>...</td>\n",
       "      <td>0</td>\n",
       "      <td>0</td>\n",
       "      <td>0</td>\n",
       "      <td>0</td>\n",
       "      <td>0</td>\n",
       "      <td>0</td>\n",
       "      <td>1</td>\n",
       "      <td>0</td>\n",
       "      <td>1</td>\n",
       "      <td>0</td>\n",
       "    </tr>\n",
       "  </tbody>\n",
       "</table>\n",
       "<p>5 rows × 1532 columns</p>\n",
       "</div>"
      ],
      "text/plain": [
       "   Train  Year_1,979  Year_1,982  Year_1,986  Year_1,989  Year_1,991  \\\n",
       "0      1           0           0           0           0           0   \n",
       "1      1           0           0           0           0           0   \n",
       "2      1           0           0           0           0           0   \n",
       "3      1           0           0           0           0           0   \n",
       "4      1           0           0           0           0           0   \n",
       "\n",
       "   Year_1,992  Year_1,993  Year_1,995  Year_1,996  ...  Colour_V  \\\n",
       "0           0           0           0           0  ...         0   \n",
       "1           0           0           0           0  ...         0   \n",
       "2           0           0           0           0  ...         0   \n",
       "3           0           0           0           0  ...         0   \n",
       "4           0           0           0           0  ...         0   \n",
       "\n",
       "   Colour_Violet  Colour_White  Colour_Yellow  Type_Brand New  \\\n",
       "0              0             0              0               0   \n",
       "1              0             0              0               0   \n",
       "2              0             0              0               0   \n",
       "3              0             0              0               0   \n",
       "4              0             0              0               0   \n",
       "\n",
       "   Type_Foreign Used  Type_Nigerian Used  Location_Abuja  Location_Ibadan  \\\n",
       "0                  0                   1               1                0   \n",
       "1                  0                   1               0                1   \n",
       "2                  1                   0               0                0   \n",
       "3                  1                   0               1                0   \n",
       "4                  0                   1               0                1   \n",
       "\n",
       "   Location_Lagos  \n",
       "0               0  \n",
       "1               0  \n",
       "2               1  \n",
       "3               0  \n",
       "4               0  \n",
       "\n",
       "[5 rows x 1532 columns]"
      ]
     },
     "execution_count": 21,
     "metadata": {},
     "output_type": "execute_result"
    }
   ],
   "source": [
    "all_data.head()"
   ]
  },
  {
   "cell_type": "code",
   "execution_count": 22,
   "id": "c1b2c105",
   "metadata": {},
   "outputs": [],
   "source": [
    "# seperating the data back to train and test\n",
    "df_train = all_data[all_data.Train == 1]\n",
    "df_test = all_data[all_data.Train == 0]"
   ]
  },
  {
   "cell_type": "code",
   "execution_count": 23,
   "id": "89427fc3",
   "metadata": {},
   "outputs": [],
   "source": [
    "df_train =  df_train.drop('Train',axis = 1)\n",
    "df_test =  df_test.drop('Train',axis = 1)"
   ]
  },
  {
   "cell_type": "code",
   "execution_count": 24,
   "id": "acb7288e",
   "metadata": {},
   "outputs": [
    {
     "data": {
      "text/html": [
       "<div>\n",
       "<style scoped>\n",
       "    .dataframe tbody tr th:only-of-type {\n",
       "        vertical-align: middle;\n",
       "    }\n",
       "\n",
       "    .dataframe tbody tr th {\n",
       "        vertical-align: top;\n",
       "    }\n",
       "\n",
       "    .dataframe thead th {\n",
       "        text-align: right;\n",
       "    }\n",
       "</style>\n",
       "<table border=\"1\" class=\"dataframe\">\n",
       "  <thead>\n",
       "    <tr style=\"text-align: right;\">\n",
       "      <th></th>\n",
       "      <th>Year_1,979</th>\n",
       "      <th>Year_1,982</th>\n",
       "      <th>Year_1,986</th>\n",
       "      <th>Year_1,989</th>\n",
       "      <th>Year_1,991</th>\n",
       "      <th>Year_1,992</th>\n",
       "      <th>Year_1,993</th>\n",
       "      <th>Year_1,995</th>\n",
       "      <th>Year_1,996</th>\n",
       "      <th>Year_1,997</th>\n",
       "      <th>...</th>\n",
       "      <th>Colour_V</th>\n",
       "      <th>Colour_Violet</th>\n",
       "      <th>Colour_White</th>\n",
       "      <th>Colour_Yellow</th>\n",
       "      <th>Type_Brand New</th>\n",
       "      <th>Type_Foreign Used</th>\n",
       "      <th>Type_Nigerian Used</th>\n",
       "      <th>Location_Abuja</th>\n",
       "      <th>Location_Ibadan</th>\n",
       "      <th>Location_Lagos</th>\n",
       "    </tr>\n",
       "  </thead>\n",
       "  <tbody>\n",
       "    <tr>\n",
       "      <th>0</th>\n",
       "      <td>0</td>\n",
       "      <td>0</td>\n",
       "      <td>0</td>\n",
       "      <td>0</td>\n",
       "      <td>0</td>\n",
       "      <td>0</td>\n",
       "      <td>0</td>\n",
       "      <td>0</td>\n",
       "      <td>0</td>\n",
       "      <td>0</td>\n",
       "      <td>...</td>\n",
       "      <td>0</td>\n",
       "      <td>0</td>\n",
       "      <td>0</td>\n",
       "      <td>0</td>\n",
       "      <td>0</td>\n",
       "      <td>0</td>\n",
       "      <td>1</td>\n",
       "      <td>1</td>\n",
       "      <td>0</td>\n",
       "      <td>0</td>\n",
       "    </tr>\n",
       "    <tr>\n",
       "      <th>1</th>\n",
       "      <td>0</td>\n",
       "      <td>0</td>\n",
       "      <td>0</td>\n",
       "      <td>0</td>\n",
       "      <td>0</td>\n",
       "      <td>0</td>\n",
       "      <td>0</td>\n",
       "      <td>0</td>\n",
       "      <td>0</td>\n",
       "      <td>0</td>\n",
       "      <td>...</td>\n",
       "      <td>0</td>\n",
       "      <td>0</td>\n",
       "      <td>0</td>\n",
       "      <td>0</td>\n",
       "      <td>0</td>\n",
       "      <td>0</td>\n",
       "      <td>1</td>\n",
       "      <td>0</td>\n",
       "      <td>1</td>\n",
       "      <td>0</td>\n",
       "    </tr>\n",
       "    <tr>\n",
       "      <th>2</th>\n",
       "      <td>0</td>\n",
       "      <td>0</td>\n",
       "      <td>0</td>\n",
       "      <td>0</td>\n",
       "      <td>0</td>\n",
       "      <td>0</td>\n",
       "      <td>0</td>\n",
       "      <td>0</td>\n",
       "      <td>0</td>\n",
       "      <td>0</td>\n",
       "      <td>...</td>\n",
       "      <td>0</td>\n",
       "      <td>0</td>\n",
       "      <td>0</td>\n",
       "      <td>0</td>\n",
       "      <td>0</td>\n",
       "      <td>1</td>\n",
       "      <td>0</td>\n",
       "      <td>0</td>\n",
       "      <td>0</td>\n",
       "      <td>1</td>\n",
       "    </tr>\n",
       "    <tr>\n",
       "      <th>3</th>\n",
       "      <td>0</td>\n",
       "      <td>0</td>\n",
       "      <td>0</td>\n",
       "      <td>0</td>\n",
       "      <td>0</td>\n",
       "      <td>0</td>\n",
       "      <td>0</td>\n",
       "      <td>0</td>\n",
       "      <td>0</td>\n",
       "      <td>0</td>\n",
       "      <td>...</td>\n",
       "      <td>0</td>\n",
       "      <td>0</td>\n",
       "      <td>0</td>\n",
       "      <td>0</td>\n",
       "      <td>0</td>\n",
       "      <td>1</td>\n",
       "      <td>0</td>\n",
       "      <td>1</td>\n",
       "      <td>0</td>\n",
       "      <td>0</td>\n",
       "    </tr>\n",
       "    <tr>\n",
       "      <th>4</th>\n",
       "      <td>0</td>\n",
       "      <td>0</td>\n",
       "      <td>0</td>\n",
       "      <td>0</td>\n",
       "      <td>0</td>\n",
       "      <td>0</td>\n",
       "      <td>0</td>\n",
       "      <td>0</td>\n",
       "      <td>0</td>\n",
       "      <td>0</td>\n",
       "      <td>...</td>\n",
       "      <td>0</td>\n",
       "      <td>0</td>\n",
       "      <td>0</td>\n",
       "      <td>0</td>\n",
       "      <td>0</td>\n",
       "      <td>0</td>\n",
       "      <td>1</td>\n",
       "      <td>0</td>\n",
       "      <td>1</td>\n",
       "      <td>0</td>\n",
       "    </tr>\n",
       "  </tbody>\n",
       "</table>\n",
       "<p>5 rows × 1531 columns</p>\n",
       "</div>"
      ],
      "text/plain": [
       "   Year_1,979  Year_1,982  Year_1,986  Year_1,989  Year_1,991  Year_1,992  \\\n",
       "0           0           0           0           0           0           0   \n",
       "1           0           0           0           0           0           0   \n",
       "2           0           0           0           0           0           0   \n",
       "3           0           0           0           0           0           0   \n",
       "4           0           0           0           0           0           0   \n",
       "\n",
       "   Year_1,993  Year_1,995  Year_1,996  Year_1,997  ...  Colour_V  \\\n",
       "0           0           0           0           0  ...         0   \n",
       "1           0           0           0           0  ...         0   \n",
       "2           0           0           0           0  ...         0   \n",
       "3           0           0           0           0  ...         0   \n",
       "4           0           0           0           0  ...         0   \n",
       "\n",
       "   Colour_Violet  Colour_White  Colour_Yellow  Type_Brand New  \\\n",
       "0              0             0              0               0   \n",
       "1              0             0              0               0   \n",
       "2              0             0              0               0   \n",
       "3              0             0              0               0   \n",
       "4              0             0              0               0   \n",
       "\n",
       "   Type_Foreign Used  Type_Nigerian Used  Location_Abuja  Location_Ibadan  \\\n",
       "0                  0                   1               1                0   \n",
       "1                  0                   1               0                1   \n",
       "2                  1                   0               0                0   \n",
       "3                  1                   0               1                0   \n",
       "4                  0                   1               0                1   \n",
       "\n",
       "   Location_Lagos  \n",
       "0               0  \n",
       "1               0  \n",
       "2               1  \n",
       "3               0  \n",
       "4               0  \n",
       "\n",
       "[5 rows x 1531 columns]"
      ]
     },
     "execution_count": 24,
     "metadata": {},
     "output_type": "execute_result"
    }
   ],
   "source": [
    "df_train.head()"
   ]
  },
  {
   "cell_type": "markdown",
   "id": "425a8100",
   "metadata": {},
   "source": [
    "## MODELLING"
   ]
  },
  {
   "cell_type": "code",
   "execution_count": 25,
   "id": "e06a8efc",
   "metadata": {},
   "outputs": [],
   "source": [
    "y= target\n",
    "X= df_train"
   ]
  },
  {
   "cell_type": "code",
   "execution_count": 26,
   "id": "b38f83d0",
   "metadata": {},
   "outputs": [],
   "source": [
    "\n",
    "np.random.seed(14)\n",
    "\n",
    "\n",
    "X_train, X_test, y_train, y_test= train_test_split(X, y, test_size=0.2)"
   ]
  },
  {
   "cell_type": "code",
   "execution_count": 27,
   "id": "2980b72a",
   "metadata": {},
   "outputs": [
    {
     "name": "stdout",
     "output_type": "stream",
     "text": [
      "(5750, 1531) (5750,)\n"
     ]
    }
   ],
   "source": [
    "print(X_train.shape, y_train.shape)"
   ]
  },
  {
   "cell_type": "code",
   "execution_count": 28,
   "id": "a8e9d222",
   "metadata": {},
   "outputs": [
    {
     "name": "stdout",
     "output_type": "stream",
     "text": [
      "(1438, 1531) (1438,)\n"
     ]
    }
   ],
   "source": [
    "print(X_test.shape, y_test.shape)"
   ]
  },
  {
   "cell_type": "code",
   "execution_count": 29,
   "id": "a00ca946",
   "metadata": {},
   "outputs": [
    {
     "data": {
      "text/html": [
       "<div>\n",
       "<style scoped>\n",
       "    .dataframe tbody tr th:only-of-type {\n",
       "        vertical-align: middle;\n",
       "    }\n",
       "\n",
       "    .dataframe tbody tr th {\n",
       "        vertical-align: top;\n",
       "    }\n",
       "\n",
       "    .dataframe thead th {\n",
       "        text-align: right;\n",
       "    }\n",
       "</style>\n",
       "<table border=\"1\" class=\"dataframe\">\n",
       "  <thead>\n",
       "    <tr style=\"text-align: right;\">\n",
       "      <th></th>\n",
       "      <th>Year_1,979</th>\n",
       "      <th>Year_1,982</th>\n",
       "      <th>Year_1,986</th>\n",
       "      <th>Year_1,989</th>\n",
       "      <th>Year_1,991</th>\n",
       "      <th>Year_1,992</th>\n",
       "      <th>Year_1,993</th>\n",
       "      <th>Year_1,995</th>\n",
       "      <th>Year_1,996</th>\n",
       "      <th>Year_1,997</th>\n",
       "      <th>...</th>\n",
       "      <th>Colour_V</th>\n",
       "      <th>Colour_Violet</th>\n",
       "      <th>Colour_White</th>\n",
       "      <th>Colour_Yellow</th>\n",
       "      <th>Type_Brand New</th>\n",
       "      <th>Type_Foreign Used</th>\n",
       "      <th>Type_Nigerian Used</th>\n",
       "      <th>Location_Abuja</th>\n",
       "      <th>Location_Ibadan</th>\n",
       "      <th>Location_Lagos</th>\n",
       "    </tr>\n",
       "  </thead>\n",
       "  <tbody>\n",
       "    <tr>\n",
       "      <th>0</th>\n",
       "      <td>0</td>\n",
       "      <td>0</td>\n",
       "      <td>0</td>\n",
       "      <td>0</td>\n",
       "      <td>0</td>\n",
       "      <td>0</td>\n",
       "      <td>0</td>\n",
       "      <td>0</td>\n",
       "      <td>0</td>\n",
       "      <td>0</td>\n",
       "      <td>...</td>\n",
       "      <td>0</td>\n",
       "      <td>0</td>\n",
       "      <td>0</td>\n",
       "      <td>0</td>\n",
       "      <td>0</td>\n",
       "      <td>0</td>\n",
       "      <td>1</td>\n",
       "      <td>1</td>\n",
       "      <td>0</td>\n",
       "      <td>0</td>\n",
       "    </tr>\n",
       "    <tr>\n",
       "      <th>1</th>\n",
       "      <td>0</td>\n",
       "      <td>0</td>\n",
       "      <td>0</td>\n",
       "      <td>0</td>\n",
       "      <td>0</td>\n",
       "      <td>0</td>\n",
       "      <td>0</td>\n",
       "      <td>0</td>\n",
       "      <td>0</td>\n",
       "      <td>0</td>\n",
       "      <td>...</td>\n",
       "      <td>0</td>\n",
       "      <td>0</td>\n",
       "      <td>0</td>\n",
       "      <td>0</td>\n",
       "      <td>0</td>\n",
       "      <td>0</td>\n",
       "      <td>1</td>\n",
       "      <td>0</td>\n",
       "      <td>1</td>\n",
       "      <td>0</td>\n",
       "    </tr>\n",
       "    <tr>\n",
       "      <th>2</th>\n",
       "      <td>0</td>\n",
       "      <td>0</td>\n",
       "      <td>0</td>\n",
       "      <td>0</td>\n",
       "      <td>0</td>\n",
       "      <td>0</td>\n",
       "      <td>0</td>\n",
       "      <td>0</td>\n",
       "      <td>0</td>\n",
       "      <td>0</td>\n",
       "      <td>...</td>\n",
       "      <td>0</td>\n",
       "      <td>0</td>\n",
       "      <td>0</td>\n",
       "      <td>0</td>\n",
       "      <td>0</td>\n",
       "      <td>1</td>\n",
       "      <td>0</td>\n",
       "      <td>0</td>\n",
       "      <td>0</td>\n",
       "      <td>1</td>\n",
       "    </tr>\n",
       "    <tr>\n",
       "      <th>3</th>\n",
       "      <td>0</td>\n",
       "      <td>0</td>\n",
       "      <td>0</td>\n",
       "      <td>0</td>\n",
       "      <td>0</td>\n",
       "      <td>0</td>\n",
       "      <td>0</td>\n",
       "      <td>0</td>\n",
       "      <td>0</td>\n",
       "      <td>0</td>\n",
       "      <td>...</td>\n",
       "      <td>0</td>\n",
       "      <td>0</td>\n",
       "      <td>0</td>\n",
       "      <td>0</td>\n",
       "      <td>0</td>\n",
       "      <td>1</td>\n",
       "      <td>0</td>\n",
       "      <td>1</td>\n",
       "      <td>0</td>\n",
       "      <td>0</td>\n",
       "    </tr>\n",
       "    <tr>\n",
       "      <th>4</th>\n",
       "      <td>0</td>\n",
       "      <td>0</td>\n",
       "      <td>0</td>\n",
       "      <td>0</td>\n",
       "      <td>0</td>\n",
       "      <td>0</td>\n",
       "      <td>0</td>\n",
       "      <td>0</td>\n",
       "      <td>0</td>\n",
       "      <td>0</td>\n",
       "      <td>...</td>\n",
       "      <td>0</td>\n",
       "      <td>0</td>\n",
       "      <td>0</td>\n",
       "      <td>0</td>\n",
       "      <td>0</td>\n",
       "      <td>0</td>\n",
       "      <td>1</td>\n",
       "      <td>0</td>\n",
       "      <td>1</td>\n",
       "      <td>0</td>\n",
       "    </tr>\n",
       "  </tbody>\n",
       "</table>\n",
       "<p>5 rows × 1531 columns</p>\n",
       "</div>"
      ],
      "text/plain": [
       "   Year_1,979  Year_1,982  Year_1,986  Year_1,989  Year_1,991  Year_1,992  \\\n",
       "0           0           0           0           0           0           0   \n",
       "1           0           0           0           0           0           0   \n",
       "2           0           0           0           0           0           0   \n",
       "3           0           0           0           0           0           0   \n",
       "4           0           0           0           0           0           0   \n",
       "\n",
       "   Year_1,993  Year_1,995  Year_1,996  Year_1,997  ...  Colour_V  \\\n",
       "0           0           0           0           0  ...         0   \n",
       "1           0           0           0           0  ...         0   \n",
       "2           0           0           0           0  ...         0   \n",
       "3           0           0           0           0  ...         0   \n",
       "4           0           0           0           0  ...         0   \n",
       "\n",
       "   Colour_Violet  Colour_White  Colour_Yellow  Type_Brand New  \\\n",
       "0              0             0              0               0   \n",
       "1              0             0              0               0   \n",
       "2              0             0              0               0   \n",
       "3              0             0              0               0   \n",
       "4              0             0              0               0   \n",
       "\n",
       "   Type_Foreign Used  Type_Nigerian Used  Location_Abuja  Location_Ibadan  \\\n",
       "0                  0                   1               1                0   \n",
       "1                  0                   1               0                1   \n",
       "2                  1                   0               0                0   \n",
       "3                  1                   0               1                0   \n",
       "4                  0                   1               0                1   \n",
       "\n",
       "   Location_Lagos  \n",
       "0               0  \n",
       "1               0  \n",
       "2               1  \n",
       "3               0  \n",
       "4               0  \n",
       "\n",
       "[5 rows x 1531 columns]"
      ]
     },
     "execution_count": 29,
     "metadata": {},
     "output_type": "execute_result"
    }
   ],
   "source": [
    "X.head()"
   ]
  },
  {
   "cell_type": "code",
   "execution_count": 30,
   "id": "c419b5ae",
   "metadata": {},
   "outputs": [
    {
     "data": {
      "text/plain": [
       "0     2.2\n",
       "1     3.5\n",
       "2     9.2\n",
       "3    22.8\n",
       "4     2.6\n",
       "Name: Amount (Million Naira), dtype: float64"
      ]
     },
     "execution_count": 30,
     "metadata": {},
     "output_type": "execute_result"
    }
   ],
   "source": [
    "y.head()"
   ]
  },
  {
   "cell_type": "markdown",
   "id": "b5d53ea8",
   "metadata": {},
   "source": [
    "## using random forest"
   ]
  },
  {
   "cell_type": "code",
   "execution_count": 31,
   "id": "4a0ead2a",
   "metadata": {},
   "outputs": [],
   "source": [
    "np.random.seed(14)\n",
    "rs= RandomForestRegressor()"
   ]
  },
  {
   "cell_type": "code",
   "execution_count": 32,
   "id": "344a6eae",
   "metadata": {},
   "outputs": [
    {
     "data": {
      "text/plain": [
       "RandomForestRegressor()"
      ]
     },
     "execution_count": 32,
     "metadata": {},
     "output_type": "execute_result"
    }
   ],
   "source": [
    "rs.fit(X_train,y_train,)"
   ]
  },
  {
   "cell_type": "code",
   "execution_count": 33,
   "id": "642d8d92",
   "metadata": {},
   "outputs": [
    {
     "data": {
      "text/plain": [
       "11.861844507816018"
      ]
     },
     "execution_count": 33,
     "metadata": {},
     "output_type": "execute_result"
    }
   ],
   "source": [
    "rs_preds= rs.predict(X_test)\n",
    "np.random.seed(14)\n",
    "\n",
    "#sqaured=false bit tells this function to return the root means sqaured error\n",
    "mean_squared_error(y_test, rs_preds, squared=False)"
   ]
  },
  {
   "cell_type": "code",
   "execution_count": 34,
   "id": "03382519",
   "metadata": {},
   "outputs": [
    {
     "data": {
      "text/plain": [
       "<matplotlib.collections.PathCollection at 0x282ea398fd0>"
      ]
     },
     "execution_count": 34,
     "metadata": {},
     "output_type": "execute_result"
    },
    {
     "data": {
      "image/png": "[encoded data removed]",
      "text/plain": [
       "<Figure size 432x288 with 1 Axes>"
      ]
     },
     "metadata": {
      "needs_background": "light"
     },
     "output_type": "display_data"
    }
   ],
   "source": [
    "plt.scatter(y_test, rs.predict(X_test), alpha=0.7)"
   ]
  },
  {
   "cell_type": "code",
   "execution_count": 35,
   "id": "8899641c",
   "metadata": {},
   "outputs": [
    {
     "data": {
      "text/plain": [
       "RandomForestRegressor()"
      ]
     },
     "execution_count": 35,
     "metadata": {},
     "output_type": "execute_result"
    }
   ],
   "source": [
    "rs.fit(X, y)"
   ]
  },
  {
   "cell_type": "code",
   "execution_count": 36,
   "id": "49437e8e",
   "metadata": {},
   "outputs": [
    {
     "data": {
      "text/html": [
       "<div>\n",
       "<style scoped>\n",
       "    .dataframe tbody tr th:only-of-type {\n",
       "        vertical-align: middle;\n",
       "    }\n",
       "\n",
       "    .dataframe tbody tr th {\n",
       "        vertical-align: top;\n",
       "    }\n",
       "\n",
       "    .dataframe thead th {\n",
       "        text-align: right;\n",
       "    }\n",
       "</style>\n",
       "<table border=\"1\" class=\"dataframe\">\n",
       "  <thead>\n",
       "    <tr style=\"text-align: right;\">\n",
       "      <th></th>\n",
       "      <th>VehicleID</th>\n",
       "      <th>Amount (Million Naira)</th>\n",
       "    </tr>\n",
       "  </thead>\n",
       "  <tbody>\n",
       "    <tr>\n",
       "      <th>0</th>\n",
       "      <td>VHL18518</td>\n",
       "      <td>3.971500</td>\n",
       "    </tr>\n",
       "    <tr>\n",
       "      <th>1</th>\n",
       "      <td>VHL17149</td>\n",
       "      <td>5.867240</td>\n",
       "    </tr>\n",
       "    <tr>\n",
       "      <th>2</th>\n",
       "      <td>VHL10927</td>\n",
       "      <td>4.395733</td>\n",
       "    </tr>\n",
       "    <tr>\n",
       "      <th>3</th>\n",
       "      <td>VHL12909</td>\n",
       "      <td>4.192013</td>\n",
       "    </tr>\n",
       "    <tr>\n",
       "      <th>4</th>\n",
       "      <td>VHL12348</td>\n",
       "      <td>9.036379</td>\n",
       "    </tr>\n",
       "    <tr>\n",
       "      <th>...</th>\n",
       "      <td>...</td>\n",
       "      <td>...</td>\n",
       "    </tr>\n",
       "    <tr>\n",
       "      <th>2056</th>\n",
       "      <td>VHL17903</td>\n",
       "      <td>22.443333</td>\n",
       "    </tr>\n",
       "    <tr>\n",
       "      <th>2057</th>\n",
       "      <td>VHL14018</td>\n",
       "      <td>4.781700</td>\n",
       "    </tr>\n",
       "    <tr>\n",
       "      <th>2058</th>\n",
       "      <td>VHL17473</td>\n",
       "      <td>6.599767</td>\n",
       "    </tr>\n",
       "    <tr>\n",
       "      <th>2059</th>\n",
       "      <td>VHL11480</td>\n",
       "      <td>10.332533</td>\n",
       "    </tr>\n",
       "    <tr>\n",
       "      <th>2060</th>\n",
       "      <td>VHL13881</td>\n",
       "      <td>3.610351</td>\n",
       "    </tr>\n",
       "  </tbody>\n",
       "</table>\n",
       "<p>2061 rows × 2 columns</p>\n",
       "</div>"
      ],
      "text/plain": [
       "     VehicleID  Amount (Million Naira)\n",
       "0     VHL18518                3.971500\n",
       "1     VHL17149                5.867240\n",
       "2     VHL10927                4.395733\n",
       "3     VHL12909                4.192013\n",
       "4     VHL12348                9.036379\n",
       "...        ...                     ...\n",
       "2056  VHL17903               22.443333\n",
       "2057  VHL14018                4.781700\n",
       "2058  VHL17473                6.599767\n",
       "2059  VHL11480               10.332533\n",
       "2060  VHL13881                3.610351\n",
       "\n",
       "[2061 rows x 2 columns]"
      ]
     },
     "execution_count": 36,
     "metadata": {},
     "output_type": "execute_result"
    }
   ],
   "source": [
    "sample_submission[\"Amount (Million Naira)\"] = rs.predict(df_test)\n",
    "sample_submission"
   ]
  },
  {
   "cell_type": "code",
   "execution_count": 37,
   "id": "67b507b8",
   "metadata": {},
   "outputs": [],
   "source": [
    "sample_submission.to_csv(\"random_forest.csv\", index=False)"
   ]
  },
  {
   "cell_type": "markdown",
   "id": "caeb170b",
   "metadata": {},
   "source": [
    "# using gradient boost"
   ]
  },
  {
   "cell_type": "code",
   "execution_count": 38,
   "id": "2fe7f53d",
   "metadata": {},
   "outputs": [],
   "source": [
    "np.random.seed(42)\n",
    "gb = GradientBoostingRegressor() "
   ]
  },
  {
   "cell_type": "code",
   "execution_count": 39,
   "id": "192872d9",
   "metadata": {},
   "outputs": [
    {
     "data": {
      "text/plain": [
       "GradientBoostingRegressor()"
      ]
     },
     "execution_count": 39,
     "metadata": {},
     "output_type": "execute_result"
    }
   ],
   "source": [
    "gb.fit(X_train, y_train)"
   ]
  },
  {
   "cell_type": "code",
   "execution_count": 40,
   "id": "6fe34305",
   "metadata": {},
   "outputs": [
    {
     "data": {
      "text/plain": [
       "12.701481175425403"
      ]
     },
     "execution_count": 40,
     "metadata": {},
     "output_type": "execute_result"
    }
   ],
   "source": [
    "gb_preds= gb.predict(X_test)\n",
    "\n",
    "#sqaured=false bit tells this function to return the root means sqaured error\n",
    "mean_squared_error(y_test, gb_preds, squared=False)"
   ]
  },
  {
   "cell_type": "code",
   "execution_count": 41,
   "id": "e1acd6bc",
   "metadata": {},
   "outputs": [
    {
     "data": {
      "text/plain": [
       "GradientBoostingRegressor()"
      ]
     },
     "execution_count": 41,
     "metadata": {},
     "output_type": "execute_result"
    }
   ],
   "source": [
    "gb.fit(X, y)"
   ]
  },
  {
   "cell_type": "code",
   "execution_count": 42,
   "id": "4018b414",
   "metadata": {},
   "outputs": [
    {
     "data": {
      "text/html": [
       "<div>\n",
       "<style scoped>\n",
       "    .dataframe tbody tr th:only-of-type {\n",
       "        vertical-align: middle;\n",
       "    }\n",
       "\n",
       "    .dataframe tbody tr th {\n",
       "        vertical-align: top;\n",
       "    }\n",
       "\n",
       "    .dataframe thead th {\n",
       "        text-align: right;\n",
       "    }\n",
       "</style>\n",
       "<table border=\"1\" class=\"dataframe\">\n",
       "  <thead>\n",
       "    <tr style=\"text-align: right;\">\n",
       "      <th></th>\n",
       "      <th>VehicleID</th>\n",
       "      <th>Amount (Million Naira)</th>\n",
       "    </tr>\n",
       "  </thead>\n",
       "  <tbody>\n",
       "    <tr>\n",
       "      <th>0</th>\n",
       "      <td>VHL18518</td>\n",
       "      <td>6.892746</td>\n",
       "    </tr>\n",
       "    <tr>\n",
       "      <th>1</th>\n",
       "      <td>VHL17149</td>\n",
       "      <td>6.867898</td>\n",
       "    </tr>\n",
       "    <tr>\n",
       "      <th>2</th>\n",
       "      <td>VHL10927</td>\n",
       "      <td>7.224357</td>\n",
       "    </tr>\n",
       "    <tr>\n",
       "      <th>3</th>\n",
       "      <td>VHL12909</td>\n",
       "      <td>6.867898</td>\n",
       "    </tr>\n",
       "    <tr>\n",
       "      <th>4</th>\n",
       "      <td>VHL12348</td>\n",
       "      <td>7.224357</td>\n",
       "    </tr>\n",
       "    <tr>\n",
       "      <th>...</th>\n",
       "      <td>...</td>\n",
       "      <td>...</td>\n",
       "    </tr>\n",
       "    <tr>\n",
       "      <th>2056</th>\n",
       "      <td>VHL17903</td>\n",
       "      <td>22.871873</td>\n",
       "    </tr>\n",
       "    <tr>\n",
       "      <th>2057</th>\n",
       "      <td>VHL14018</td>\n",
       "      <td>7.224357</td>\n",
       "    </tr>\n",
       "    <tr>\n",
       "      <th>2058</th>\n",
       "      <td>VHL17473</td>\n",
       "      <td>8.127659</td>\n",
       "    </tr>\n",
       "    <tr>\n",
       "      <th>2059</th>\n",
       "      <td>VHL11480</td>\n",
       "      <td>7.224357</td>\n",
       "    </tr>\n",
       "    <tr>\n",
       "      <th>2060</th>\n",
       "      <td>VHL13881</td>\n",
       "      <td>7.224357</td>\n",
       "    </tr>\n",
       "  </tbody>\n",
       "</table>\n",
       "<p>2061 rows × 2 columns</p>\n",
       "</div>"
      ],
      "text/plain": [
       "     VehicleID  Amount (Million Naira)\n",
       "0     VHL18518                6.892746\n",
       "1     VHL17149                6.867898\n",
       "2     VHL10927                7.224357\n",
       "3     VHL12909                6.867898\n",
       "4     VHL12348                7.224357\n",
       "...        ...                     ...\n",
       "2056  VHL17903               22.871873\n",
       "2057  VHL14018                7.224357\n",
       "2058  VHL17473                8.127659\n",
       "2059  VHL11480                7.224357\n",
       "2060  VHL13881                7.224357\n",
       "\n",
       "[2061 rows x 2 columns]"
      ]
     },
     "execution_count": 42,
     "metadata": {},
     "output_type": "execute_result"
    }
   ],
   "source": [
    "gb.fit(X, y)\n",
    "sample_submission[\"Amount (Million Naira)\"] = gb.predict(df_test)\n",
    "sample_submission"
   ]
  },
  {
   "cell_type": "code",
   "execution_count": 43,
   "id": "5f75b1f5",
   "metadata": {},
   "outputs": [],
   "source": [
    "sample_submission.to_csv(\"random_gradient.csv\", index=False)"
   ]
  },
  {
   "cell_type": "code",
   "execution_count": 44,
   "id": "7d4bb3ac",
   "metadata": {},
   "outputs": [],
   "source": [
    "#from xgboost import XGBRFRegressor,XGBRegressor\n",
    "from xgboost import XGBRegressor, XGBRFRegressor"
   ]
  },
  {
   "cell_type": "code",
   "execution_count": 131,
   "id": "c8281f5c",
   "metadata": {},
   "outputs": [],
   "source": [
    "from sklearn.ensemble import RandomForestRegressor,ExtraTreesRegressor,BaggingRegressor,VotingRegressor,StackingRegressor"
   ]
  },
  {
   "cell_type": "code",
   "execution_count": null,
   "id": "7cab7c81",
   "metadata": {},
   "outputs": [],
   "source": []
  },
  {
   "cell_type": "code",
   "execution_count": 132,
   "id": "d4b1d752",
   "metadata": {},
   "outputs": [],
   "source": [
    "r1 = XGBRegressor(random_state = 42)\n",
    "r2 = RandomForestRegressor(random_state=42)\n",
    "r3 = CatBoostRegressor(verbose=False,random_state = 42)\n",
    "r4 =  GradientBoostingRegressor(random_state=42) \n",
    "\n",
    "# a = LinearRegression()\n",
    "# b = BaggingRegressor()\n",
    "# c = XGBRegressor()\n",
    "\n",
    "# ensemble=( a*0.6 )+ ( 0.4*b )+ (0.3*c)\n",
    "# v_model = VotingRegressor(ensemble)\n",
    "\n",
    "\n",
    "# v_model = VotingRegressor(\n",
    "#     estimators = [('XGB', XGBRegressor(random_state=42)),\n",
    "#                   ('RF', RandomForestRegressor()),\n",
    "#                   #('gnb', CatBoostRegressor()),\n",
    "#                  #('Lr', LinearRegression()),\n",
    "#                  ('Gb', GradientBoostingRegressor())],\n",
    "#                  weights=(1,1,1))\n",
    "\n"
   ]
  },
  {
   "cell_type": "code",
   "execution_count": null,
   "id": "60854838",
   "metadata": {},
   "outputs": [],
   "source": []
  },
  {
   "cell_type": "code",
   "execution_count": 133,
   "id": "b9ec582f",
   "metadata": {},
   "outputs": [],
   "source": [
    "v_model = VotingRegressor([('r1', r1),('rf', r2),('r3',r3),('r4', r4)],weights=(1,1,1,1))\n"
   ]
  },
  {
   "cell_type": "code",
   "execution_count": 134,
   "id": "855ccd6b",
   "metadata": {},
   "outputs": [
    {
     "data": {
      "text/plain": [
       "VotingRegressor(estimators=[('r1',\n",
       "                             XGBRegressor(base_score=None, booster=None,\n",
       "                                          callbacks=None,\n",
       "                                          colsample_bylevel=None,\n",
       "                                          colsample_bynode=None,\n",
       "                                          colsample_bytree=None,\n",
       "                                          early_stopping_rounds=None,\n",
       "                                          enable_categorical=False,\n",
       "                                          eval_metric=None, gamma=None,\n",
       "                                          gpu_id=None, grow_policy=None,\n",
       "                                          importance_type=None,\n",
       "                                          interaction_constraints=None,\n",
       "                                          learning_rate=None, max_bin=None,\n",
       "                                          m...\n",
       "                                          min_child_weight=None, missing=nan,\n",
       "                                          monotone_constraints=None,\n",
       "                                          n_estimators=100, n_jobs=None,\n",
       "                                          num_parallel_tree=None,\n",
       "                                          predictor=None, random_state=42,\n",
       "                                          reg_alpha=None, reg_lambda=None, ...)),\n",
       "                            ('rf', RandomForestRegressor(random_state=42)),\n",
       "                            ('r3',\n",
       "                             <catboost.core.CatBoostRegressor object at 0x00000282F64DC0A0>),\n",
       "                            ('r4', GradientBoostingRegressor(random_state=42))],\n",
       "                weights=(1, 1, 1, 1))"
      ]
     },
     "execution_count": 134,
     "metadata": {},
     "output_type": "execute_result"
    }
   ],
   "source": [
    "v_model.fit(X,y)"
   ]
  },
  {
   "cell_type": "code",
   "execution_count": 135,
   "id": "17a208a0",
   "metadata": {},
   "outputs": [
    {
     "data": {
      "text/plain": [
       "VotingRegressor(estimators=[('r1',\n",
       "                             XGBRegressor(base_score=None, booster=None,\n",
       "                                          callbacks=None,\n",
       "                                          colsample_bylevel=None,\n",
       "                                          colsample_bynode=None,\n",
       "                                          colsample_bytree=None,\n",
       "                                          early_stopping_rounds=None,\n",
       "                                          enable_categorical=False,\n",
       "                                          eval_metric=None, gamma=None,\n",
       "                                          gpu_id=None, grow_policy=None,\n",
       "                                          importance_type=None,\n",
       "                                          interaction_constraints=None,\n",
       "                                          learning_rate=None, max_bin=None,\n",
       "                                          m...\n",
       "                                          min_child_weight=None, missing=nan,\n",
       "                                          monotone_constraints=None,\n",
       "                                          n_estimators=100, n_jobs=None,\n",
       "                                          num_parallel_tree=None,\n",
       "                                          predictor=None, random_state=42,\n",
       "                                          reg_alpha=None, reg_lambda=None, ...)),\n",
       "                            ('rf', RandomForestRegressor(random_state=42)),\n",
       "                            ('r3',\n",
       "                             <catboost.core.CatBoostRegressor object at 0x00000282F64DC0A0>),\n",
       "                            ('r4', GradientBoostingRegressor(random_state=42))],\n",
       "                weights=(1, 1, 1, 1))"
      ]
     },
     "execution_count": 135,
     "metadata": {},
     "output_type": "execute_result"
    }
   ],
   "source": [
    "v_model.fit(X_train,y_train )"
   ]
  },
  {
   "cell_type": "code",
   "execution_count": 136,
   "id": "3f1b4e22",
   "metadata": {},
   "outputs": [],
   "source": [
    "v_preds = v_model.predict(X_test)"
   ]
  },
  {
   "cell_type": "code",
   "execution_count": 137,
   "id": "54a72858",
   "metadata": {},
   "outputs": [
    {
     "data": {
      "text/plain": [
       "11.579071309900764"
      ]
     },
     "execution_count": 137,
     "metadata": {},
     "output_type": "execute_result"
    }
   ],
   "source": [
    "#sqaured=false bit tells this function to return the root means sqaured error\n",
    "mean_squared_error(y_test, v_preds, squared=False)"
   ]
  },
  {
   "cell_type": "code",
   "execution_count": 138,
   "id": "8259db60",
   "metadata": {},
   "outputs": [
    {
     "data": {
      "text/plain": [
       "<matplotlib.collections.PathCollection at 0x282f65fc7f0>"
      ]
     },
     "execution_count": 138,
     "metadata": {},
     "output_type": "execute_result"
    },
    {
     "data": {
      "image/png": "[encoded data removed]",
      "text/plain": [
       "<Figure size 432x288 with 1 Axes>"
      ]
     },
     "metadata": {
      "needs_background": "light"
     },
     "output_type": "display_data"
    }
   ],
   "source": [
    "plt.scatter(y_test, v_model.predict(X_test), alpha=0.7)"
   ]
  },
  {
   "cell_type": "code",
   "execution_count": 139,
   "id": "2bb6c65a",
   "metadata": {},
   "outputs": [
    {
     "data": {
      "text/html": [
       "<div>\n",
       "<style scoped>\n",
       "    .dataframe tbody tr th:only-of-type {\n",
       "        vertical-align: middle;\n",
       "    }\n",
       "\n",
       "    .dataframe tbody tr th {\n",
       "        vertical-align: top;\n",
       "    }\n",
       "\n",
       "    .dataframe thead th {\n",
       "        text-align: right;\n",
       "    }\n",
       "</style>\n",
       "<table border=\"1\" class=\"dataframe\">\n",
       "  <thead>\n",
       "    <tr style=\"text-align: right;\">\n",
       "      <th></th>\n",
       "      <th>VehicleID</th>\n",
       "      <th>Amount (Million Naira)</th>\n",
       "    </tr>\n",
       "  </thead>\n",
       "  <tbody>\n",
       "    <tr>\n",
       "      <th>0</th>\n",
       "      <td>VHL18518</td>\n",
       "      <td>6.145533</td>\n",
       "    </tr>\n",
       "    <tr>\n",
       "      <th>1</th>\n",
       "      <td>VHL17149</td>\n",
       "      <td>6.297038</td>\n",
       "    </tr>\n",
       "    <tr>\n",
       "      <th>2</th>\n",
       "      <td>VHL10927</td>\n",
       "      <td>5.393659</td>\n",
       "    </tr>\n",
       "    <tr>\n",
       "      <th>3</th>\n",
       "      <td>VHL12909</td>\n",
       "      <td>5.117836</td>\n",
       "    </tr>\n",
       "    <tr>\n",
       "      <th>4</th>\n",
       "      <td>VHL12348</td>\n",
       "      <td>8.663902</td>\n",
       "    </tr>\n",
       "    <tr>\n",
       "      <th>...</th>\n",
       "      <td>...</td>\n",
       "      <td>...</td>\n",
       "    </tr>\n",
       "    <tr>\n",
       "      <th>2056</th>\n",
       "      <td>VHL17903</td>\n",
       "      <td>23.398996</td>\n",
       "    </tr>\n",
       "    <tr>\n",
       "      <th>2057</th>\n",
       "      <td>VHL14018</td>\n",
       "      <td>5.819280</td>\n",
       "    </tr>\n",
       "    <tr>\n",
       "      <th>2058</th>\n",
       "      <td>VHL17473</td>\n",
       "      <td>7.803482</td>\n",
       "    </tr>\n",
       "    <tr>\n",
       "      <th>2059</th>\n",
       "      <td>VHL11480</td>\n",
       "      <td>9.149034</td>\n",
       "    </tr>\n",
       "    <tr>\n",
       "      <th>2060</th>\n",
       "      <td>VHL13881</td>\n",
       "      <td>5.605902</td>\n",
       "    </tr>\n",
       "  </tbody>\n",
       "</table>\n",
       "<p>2061 rows × 2 columns</p>\n",
       "</div>"
      ],
      "text/plain": [
       "     VehicleID  Amount (Million Naira)\n",
       "0     VHL18518                6.145533\n",
       "1     VHL17149                6.297038\n",
       "2     VHL10927                5.393659\n",
       "3     VHL12909                5.117836\n",
       "4     VHL12348                8.663902\n",
       "...        ...                     ...\n",
       "2056  VHL17903               23.398996\n",
       "2057  VHL14018                5.819280\n",
       "2058  VHL17473                7.803482\n",
       "2059  VHL11480                9.149034\n",
       "2060  VHL13881                5.605902\n",
       "\n",
       "[2061 rows x 2 columns]"
      ]
     },
     "execution_count": 139,
     "metadata": {},
     "output_type": "execute_result"
    }
   ],
   "source": [
    "sample_submission[\"Amount (Million Naira)\"] = v_model.predict(df_test)\n",
    "sample_submission"
   ]
  },
  {
   "cell_type": "code",
   "execution_count": 140,
   "id": "9676f17e",
   "metadata": {},
   "outputs": [],
   "source": [
    "sample_submission.to_csv(\"votingGrad.csv\", index=False)"
   ]
  }
 ],
 "metadata": {
  "interpreter": {
   "hash": "f542a752b84d4e1affe6d287321ce8a7471af306cdd930415e7e3d60f4513228"
  },
  "kernelspec": {
   "display_name": "Python 3.9.7 ('base')",
   "language": "python",
   "name": "python3"
  },
  "language_info": {
   "codemirror_mode": {
    "name": "ipython",
    "version": 3
   },
   "file_extension": ".py",
   "mimetype": "text/x-python",
   "name": "python",
   "nbconvert_exporter": "python",
   "pygments_lexer": "ipython3",
   "version": "3.9.7"
  }
 },
 "nbformat": 4,
 "nbformat_minor": 5
}
